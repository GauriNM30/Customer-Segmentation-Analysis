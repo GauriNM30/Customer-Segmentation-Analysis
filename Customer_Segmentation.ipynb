{
  "nbformat": 4,
  "nbformat_minor": 0,
  "metadata": {
    "colab": {
      "name": "Customer_Segmentation_GOhit.ipynb",
      "provenance": [],
      "collapsed_sections": []
    },
    "kernelspec": {
      "name": "python3",
      "display_name": "Python 3"
    }
  },
  "cells": [
    {
      "cell_type": "markdown",
      "metadata": {
        "id": "r6pjlFzvD_8H",
        "colab_type": "text"
      },
      "source": [
        "#Connecting to drive"
      ]
    },
    {
      "cell_type": "code",
      "metadata": {
        "id": "qJ5u2SreBQ_T",
        "colab_type": "code",
        "colab": {}
      },
      "source": [
        "from google.colab import drive\n",
        "drive.mount('/content/drive/')"
      ],
      "execution_count": null,
      "outputs": []
    },
    {
      "cell_type": "markdown",
      "metadata": {
        "id": "9qwREWAFEQ9-",
        "colab_type": "text"
      },
      "source": [
        "#Going to correct path"
      ]
    },
    {
      "cell_type": "code",
      "metadata": {
        "id": "CHUhfDnrD-ok",
        "colab_type": "code",
        "colab": {}
      },
      "source": [
        "%cd drive\n",
        "%cd My Drive\n",
        "%cd Customer_Retail_Project\n",
        "%ls"
      ],
      "execution_count": null,
      "outputs": []
    },
    {
      "cell_type": "markdown",
      "metadata": {
        "id": "iEZNY4zpEehv",
        "colab_type": "text"
      },
      "source": [
        "#Importing necessary libraries"
      ]
    },
    {
      "cell_type": "code",
      "metadata": {
        "id": "dm_AnAI7ENOP",
        "colab_type": "code",
        "colab": {}
      },
      "source": [
        "import pandas as pd\n",
        "import numpy as np\n",
        "import seaborn as sns\n",
        "import matplotlib.pyplot as plt\n",
        "from scipy import stats\n",
        "from sklearn.preprocessing import OneHotEncoder \n",
        "from sklearn.preprocessing import LabelEncoder \n",
        "from sklearn.compose import ColumnTransformer \n",
        "import datetime as dt\n",
        "from sklearn.metrics import silhouette_score\n",
        "from sklearn.cluster import KMeans\n",
        "\n",
        "%matplotlib inline\n",
        "\n"
      ],
      "execution_count": null,
      "outputs": []
    },
    {
      "cell_type": "markdown",
      "metadata": {
        "id": "hQ3WHZ8tGpez",
        "colab_type": "text"
      },
      "source": [
        "#Converting CSV to DF"
      ]
    },
    {
      "cell_type": "code",
      "metadata": {
        "id": "c-JAG1gwEmO1",
        "colab_type": "code",
        "colab": {}
      },
      "source": [
        "data = pd.read_csv('OnlineRetail.csv', encoding = \"ISO-8859-1\")\n",
        "data.head()"
      ],
      "execution_count": null,
      "outputs": []
    },
    {
      "cell_type": "markdown",
      "metadata": {
        "id": "K2XPgFKQuJP8",
        "colab_type": "text"
      },
      "source": [
        "# Dropping Null values from the main DF\n",
        " "
      ]
    },
    {
      "cell_type": "code",
      "metadata": {
        "id": "E4Ltm9g4Faos",
        "colab_type": "code",
        "colab": {}
      },
      "source": [
        "data.dropna(axis = 0,subset=['Description'], inplace = True)\n",
        "data.dropna(subset =['CustomerID'],axis = 0,inplace =True)\n",
        "\n",
        "print(data.info())\n",
        "print(\"----------------------------------------------------------------\")\n",
        "print(\"Null values in each column\")\n",
        "print(data.isnull().sum())"
      ],
      "execution_count": null,
      "outputs": []
    },
    {
      "cell_type": "markdown",
      "metadata": {
        "id": "Zo1VVHHoW2Yn",
        "colab_type": "text"
      },
      "source": [
        "# Seperating categorical and numerical data"
      ]
    },
    {
      "cell_type": "code",
      "metadata": {
        "id": "fqgZhX9iWwK4",
        "colab_type": "code",
        "colab": {}
      },
      "source": [
        "data.reset_index(inplace = True)\n",
        "data.drop(['index','Country'],axis=1)\n",
        "cat_data = data.loc[:,data.dtypes==np.object]\n",
        "num_data = data.loc[:,data.dtypes!=np.object]"
      ],
      "execution_count": null,
      "outputs": []
    },
    {
      "cell_type": "markdown",
      "metadata": {
        "id": "qzrdgIXeeI48",
        "colab_type": "text"
      },
      "source": [
        "#Creating a Pair-Plot "
      ]
    },
    {
      "cell_type": "code",
      "metadata": {
        "id": "WZSS1TMDCwpL",
        "colab_type": "code",
        "colab": {}
      },
      "source": [
        "sns.pairplot(data)"
      ],
      "execution_count": null,
      "outputs": []
    },
    {
      "cell_type": "markdown",
      "metadata": {
        "id": "GMNYDy-3eMZa",
        "colab_type": "text"
      },
      "source": [
        "# Correlation Matrix along with a heatmap"
      ]
    },
    {
      "cell_type": "code",
      "metadata": {
        "id": "9oYwW42CvfZc",
        "colab_type": "code",
        "colab": {}
      },
      "source": [
        "print(\"correlation matrix\")\n",
        "plt.figure(figsize=(20,6))\n",
        "sns.heatmap(num_data.corr(),xticklabels=num_data.columns, yticklabels=num_data.columns,annot = True,square = True)"
      ],
      "execution_count": null,
      "outputs": []
    },
    {
      "cell_type": "markdown",
      "metadata": {
        "id": "hQEcG8O6d1uZ",
        "colab_type": "text"
      },
      "source": [
        "# List and number of unique values"
      ]
    },
    {
      "cell_type": "code",
      "metadata": {
        "id": "MO4TAgGfstAj",
        "colab_type": "code",
        "colab": {}
      },
      "source": [
        "for col_name in cat_data.columns:\n",
        "  print(\"column name > \",col_name)\n",
        "  print(cat_data[col_name].unique())\n",
        "  print(\"Number of unique values > \", len(cat_data[col_name].unique())) \n",
        "  print(\"--------------------------------\")"
      ],
      "execution_count": null,
      "outputs": []
    },
    {
      "cell_type": "markdown",
      "metadata": {
        "id": "axsFNETQr5w3",
        "colab_type": "text"
      },
      "source": [
        "# Converting InvoiceID column "
      ]
    },
    {
      "cell_type": "code",
      "metadata": {
        "id": "1q4wXsTiZKFf",
        "colab_type": "code",
        "colab": {}
      },
      "source": [
        "'''Converted all Invoice numbers which start with 'C'> '3' as 3 \n",
        "is not used to start any number and this will help us to convert this to\n",
        " numerical data. I did the same thing for 'A'>'1' '''\n",
        "\n",
        "cat_data['InvoiceNo'] = cat_data['InvoiceNo'].str.replace('C','3')\n",
        "cat_data['InvoiceNo'] = cat_data['InvoiceNo'].str.replace('A','1')\n",
        "print(list(cat_data.InvoiceNo.unique()))\n",
        "cat_data[\"InvoiceNo\"] = cat_data[\"InvoiceNo\"].astype(np.float64)\n",
        "print(cat_data[\"InvoiceNo\"].isnull().sum(),cat_data[\"InvoiceNo\"].dtype)\n",
        "\n",
        "\n"
      ],
      "execution_count": null,
      "outputs": []
    },
    {
      "cell_type": "markdown",
      "metadata": {
        "id": "TzDGQOXefSen",
        "colab_type": "text"
      },
      "source": [
        "# Converting InoiceDate"
      ]
    },
    {
      "cell_type": "code",
      "metadata": {
        "id": "tabzTMHSQoWQ",
        "colab_type": "code",
        "colab": {}
      },
      "source": [
        "cat_data[\"InvoiceDate\"]= pd.to_datetime(cat_data[\"InvoiceDate\"])\n",
        "cat_data.info()"
      ],
      "execution_count": null,
      "outputs": []
    },
    {
      "cell_type": "markdown",
      "metadata": {
        "id": "q3mqdg_ssaOi",
        "colab_type": "text"
      },
      "source": [
        "# merging cat_data and num_data"
      ]
    },
    {
      "cell_type": "code",
      "metadata": {
        "id": "WPGT4U63EgUP",
        "colab_type": "code",
        "colab": {}
      },
      "source": [
        "new_data = pd.concat([cat_data,num_data],axis = 1)\n",
        "print(new_data.head())\n",
        "print(new_data.columns)"
      ],
      "execution_count": null,
      "outputs": []
    },
    {
      "cell_type": "markdown",
      "metadata": {
        "id": "a3SW-wiztRUf",
        "colab_type": "text"
      },
      "source": [
        "# Recency, Frequency and Monetary column generation"
      ]
    },
    {
      "cell_type": "code",
      "metadata": {
        "id": "sKVsryxtFkrg",
        "colab_type": "code",
        "colab": {}
      },
      "source": [
        "NOW = dt.datetime(2011,12,10)\n",
        "rfmTable = new_data.groupby('CustomerID').agg({'InvoiceDate': lambda x: (NOW - x.max()).days,\n",
        "'InvoiceNo': lambda x: len(x), 'UnitPrice': lambda x: x.sum()})\n",
        "print(rfmTable.head(),rfmTable.shape)"
      ],
      "execution_count": null,
      "outputs": []
    },
    {
      "cell_type": "code",
      "metadata": {
        "id": "vTrhNyIsGbIV",
        "colab_type": "code",
        "colab": {}
      },
      "source": [
        "rfmTable.reset_index(inplace = True)\n",
        "rfmTable.columns = ['CustomerID','Recency', 'Frequency', 'Monetary']\n",
        "print(rfmTable.head())"
      ],
      "execution_count": null,
      "outputs": []
    },
    {
      "cell_type": "markdown",
      "metadata": {
        "id": "5ZIaOk3nw2CH",
        "colab_type": "text"
      },
      "source": [
        "# Converting the new_data df to match rfmTable"
      ]
    },
    {
      "cell_type": "code",
      "metadata": {
        "id": "PFBwuqLLtjy5",
        "colab_type": "code",
        "colab": {}
      },
      "source": [
        "left = new_data.drop_duplicates(subset=['CustomerID'])\n",
        "left = left.sort_values(by='CustomerID')\n",
        "# left.reset_index(inplace = True)\n",
        "# left.drop('level_0',axis=1)\n",
        "left.head()"
      ],
      "execution_count": null,
      "outputs": []
    },
    {
      "cell_type": "markdown",
      "metadata": {
        "id": "9azo1w5x3tRY",
        "colab_type": "text"
      },
      "source": [
        "#Generating the final dataframe for modelling"
      ]
    },
    {
      "cell_type": "code",
      "metadata": {
        "id": "ZdWxuxSuxE9J",
        "colab_type": "code",
        "colab": {}
      },
      "source": [
        "print(left.shape,rfmTable.shape)\n",
        "final_df = pd.merge(left=left, right = rfmTable, how='inner',on ='CustomerID')\n",
        "final_df.drop(labels=['Description','Country'],axis=1,inplace=True)\n",
        "\n",
        "print(final_df.shape)\n",
        "\n",
        "print(final_df.head())\n",
        "print(final_df.info())"
      ],
      "execution_count": null,
      "outputs": []
    },
    {
      "cell_type": "code",
      "metadata": {
        "id": "v5GdeMWbT91q",
        "colab_type": "code",
        "colab": {}
      },
      "source": [
        "final_df.head()"
      ],
      "execution_count": null,
      "outputs": []
    },
    {
      "cell_type": "markdown",
      "metadata": {
        "id": "0yz0Q8RaVgwR",
        "colab_type": "text"
      },
      "source": [
        "# Train Test split"
      ]
    },
    {
      "cell_type": "code",
      "metadata": {
        "id": "J7z1mmXVU5Kh",
        "colab_type": "code",
        "colab": {}
      },
      "source": [
        "divide = int(final_df.shape[0]*0.8)\n",
        "X_train = final_df.iloc[0:divide,7:]\n",
        "X_test = final_df.iloc[(divide+1):,7:]"
      ],
      "execution_count": null,
      "outputs": []
    },
    {
      "cell_type": "code",
      "metadata": {
        "id": "SB-Zi2ZoQrxy",
        "colab_type": "code",
        "cellView": "both",
        "colab": {}
      },
      "source": [
        "# Elbow-curve/SSD\n",
        "\n",
        "ssd = []\n",
        "range_n_clusters = [2, 3, 4, 5, 6, 7, 8,9,10,11,12]\n",
        "for num_clusters in range_n_clusters:\n",
        "    kmeans = KMeans(n_clusters=num_clusters, max_iter=50)\n",
        "    kmeans.fit(X_train)\n",
        "    \n",
        "    ssd.append(kmeans.inertia_)\n",
        "    \n",
        "# plot the SSDs for each n_clusters\n",
        "plt.plot(ssd)"
      ],
      "execution_count": null,
      "outputs": []
    },
    {
      "cell_type": "markdown",
      "metadata": {
        "id": "tRdLx8U_WCdf",
        "colab_type": "text"
      },
      "source": [
        "# Selecting clusters = 5 from the graph above"
      ]
    },
    {
      "cell_type": "code",
      "metadata": {
        "id": "cogJeSdq9LyY",
        "colab_type": "code",
        "colab": {}
      },
      "source": [
        "kmeans = KMeans(n_clusters=5, max_iter=50, algorithm = 'auto')\n",
        "kmeans.fit(X_train)\n",
        "X_train['Group'] = kmeans.labels_"
      ],
      "execution_count": null,
      "outputs": []
    },
    {
      "cell_type": "markdown",
      "metadata": {
        "id": "rDIBgJF77i0v",
        "colab_type": "text"
      },
      "source": [
        "#Silhouette score calculation\n"
      ]
    },
    {
      "cell_type": "code",
      "metadata": {
        "id": "KJpEqWnF7o4j",
        "colab_type": "code",
        "colab": {}
      },
      "source": [
        "silhouette_avg = silhouette_score(X_train.iloc[:,0:3], X_train.iloc[:,-1])\n",
        "print(\"for n = {0} , silhouette score is {1}\" .format(5,silhouette_avg))"
      ],
      "execution_count": null,
      "outputs": []
    },
    {
      "cell_type": "markdown",
      "metadata": {
        "id": "U6sTTOVdWe3X",
        "colab_type": "text"
      },
      "source": [
        "# Box plots to visualize Group Distribution\n"
      ]
    },
    {
      "cell_type": "code",
      "metadata": {
        "id": "5DxB6d_XWeXe",
        "colab_type": "code",
        "colab": {}
      },
      "source": [
        "plt.figure(figsize=(20,6))\n",
        "sns.boxplot(x='Group', y='Recency', data=X_train)\n",
        "plt.title(\"Group Vs Recent Purchases\")\n",
        "plt.show()\n",
        "\n",
        "plt.figure(figsize=(20,6))\n",
        "sns.boxplot(x='Group', y='Frequency', data=X_train)\n",
        "plt.title(\"Group Vs Frequency of Purchases\")\n",
        "plt.show()\n",
        "\n",
        "plt.figure(figsize=(20,6))\n",
        "sns.boxplot(x='Group', y='Monetary', data=X_train)\n",
        "plt.title(\"Group Vs Spending of total purchases\")\n",
        "plt.show()"
      ],
      "execution_count": null,
      "outputs": []
    },
    {
      "cell_type": "markdown",
      "metadata": {
        "id": "BT4SJwNvoo7k",
        "colab_type": "text"
      },
      "source": [
        "#Strip  plots to visualize Total distribution"
      ]
    },
    {
      "cell_type": "code",
      "metadata": {
        "id": "yHR2FbXiopHa",
        "colab_type": "code",
        "colab": {}
      },
      "source": [
        "plt.figure(figsize=(20,6))\n",
        "sns.stripplot(x='Group', y='Recency', data=X_train)\n",
        "plt.title(\"Group Vs Recent Purchases\")\n",
        "plt.show()\n",
        "\n",
        "plt.figure(figsize=(20,6))\n",
        "sns.stripplot(x='Group', y='Frequency', data=X_train)\n",
        "plt.title(\"Group Vs Frequency of Purchases\")\n",
        "plt.show()\n",
        "\n",
        "plt.figure(figsize=(20,6))\n",
        "sns.stripplot(x='Group', y='Monetary', data=X_train)\n",
        "plt.title(\"Group Vs Spending of total purchases\")\n",
        "plt.show()"
      ],
      "execution_count": null,
      "outputs": []
    },
    {
      "cell_type": "markdown",
      "metadata": {
        "id": "_EZCtdtZWSY1",
        "colab_type": "text"
      },
      "source": [
        "#Predicting for the test data"
      ]
    },
    {
      "cell_type": "code",
      "metadata": {
        "id": "Mod33nmbExgn",
        "colab_type": "code",
        "colab": {}
      },
      "source": [
        "X_test['Group'] = kmeans.predict(X_test)"
      ],
      "execution_count": null,
      "outputs": []
    },
    {
      "cell_type": "code",
      "metadata": {
        "id": "YbaQin9YCqix",
        "colab_type": "code",
        "colab": {}
      },
      "source": [
        "X_test.head()"
      ],
      "execution_count": null,
      "outputs": []
    },
    {
      "cell_type": "markdown",
      "metadata": {
        "id": "obJ4pPSXtFmN",
        "colab_type": "text"
      },
      "source": [
        "#Inferences \n",
        "\n",
        "---\n",
        "\n",
        "\n",
        "\n",
        "> 1. Group 0 can be ignored as they dont add much monetary value or frequency.\n",
        "2.   Group 1 has made most purchases recently but their overall frequency is still less. \n",
        "3.   Group 2 frequently buys a lot of stuff with average monetary value.\n",
        "4. Group 3 has not bought anything recently but they are frequent in their purchases and contribute to the monetary value.\n",
        "5. Group 4 has made frequent high value purchases recently\n",
        "6. More focus should be given on people in groups 2 and 4\n",
        "\n",
        "\n"
      ]
    },
    {
      "cell_type": "code",
      "metadata": {
        "id": "sfwajpjWFcFt",
        "colab_type": "code",
        "colab": {}
      },
      "source": [
        ""
      ],
      "execution_count": null,
      "outputs": []
    }
  ]
}